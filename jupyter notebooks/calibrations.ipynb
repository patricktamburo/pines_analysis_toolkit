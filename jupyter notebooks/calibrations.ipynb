{
 "metadata": {
  "language_info": {
   "codemirror_mode": {
    "name": "ipython",
    "version": 3
   },
   "file_extension": ".py",
   "mimetype": "text/x-python",
   "name": "python",
   "nbconvert_exporter": "python",
   "pygments_lexer": "ipython3",
   "version": "3.8.5-final"
  },
  "orig_nbformat": 2,
  "kernelspec": {
   "name": "python3",
   "display_name": "Python 3.8.5 64-bit ('base': conda)",
   "metadata": {
    "interpreter": {
     "hash": "2cd39f1a97de169e7a9a38778675e457bf6129af13e5dc1d342075449d9ac509"
    }
   }
  }
 },
 "nbformat": 4,
 "nbformat_minor": 2,
 "cells": [
  {
   "cell_type": "code",
   "execution_count": 1,
   "metadata": {},
   "outputs": [],
   "source": [
    "import pines_analysis_toolkit as pat "
   ]
  },
  {
   "cell_type": "code",
   "execution_count": 2,
   "metadata": {},
   "outputs": [
    {
     "output_type": "stream",
     "name": "stdout",
     "text": [
      "\n",
      "\n",
      "Login successful!\n",
      "\n"
     ]
    }
   ],
   "source": [
    "#Set up an sftp connection to the PINES server.\n",
    "sftp = pat.utils.pines_login()"
   ]
  },
  {
   "cell_type": "code",
   "execution_count": 4,
   "metadata": {},
   "outputs": [],
   "source": [
    "#Set up calibration info. In this example, I'll make calibrations for the 202005 run, which had targets observed in H band with 10- and 15-s exposure times. Get calibration info from PATATO: https://docs.google.com/spreadsheets/d/1ACMGHrXuVh6yyzZWsR-dy3bq72bC0ElfxwUnfeA8HDM/edit#gid=0. \n",
    "\n",
    "#Dark info. Each exposure time must have a corresponding dark date!\n",
    "exptimes =   [        10,         15]\n",
    "dark_dates = ['20200512', '20200512']\n",
    "\n",
    "#Flat info. Each band must have a corresponding flat date! NOTE that despite there being multiple exposure times, all of the targets were observed in the same band (H), so we only need to make one flat. \n",
    "bands      = ['H']\n",
    "flat_dates = ['20200512']"
   ]
  },
  {
   "cell_type": "code",
   "execution_count": null,
   "metadata": {},
   "outputs": [],
   "source": [
    "#Run the calibrations. NOTE that if a calibration file already exists on your local computer, it will NOT create a new copy of it. If you want to make a new copy, you will need to remove the existing calibration file from the appropriate ~/Documents/PINES_analysis_toolkit/Calibrations/ directory. Also NOTE that any created master calibrations will automatically be uploaded to the PINES server! \n",
    "pat.data.make_calibrations(sftp, exptimes, bands, dark_dates, flat_dates)"
   ]
  },
  {
   "cell_type": "code",
   "execution_count": null,
   "metadata": {},
   "outputs": [],
   "source": [
    "#Close the sftp connection. Remember to update the \"Calibrations\" column in PATATO!\n",
    "sftp.close()"
   ]
  }
 ]
}