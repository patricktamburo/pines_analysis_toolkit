{
 "cells": [
  {
   "cell_type": "code",
   "execution_count": 2,
   "metadata": {},
   "outputs": [],
   "source": [
    "'''\n",
    "    AUTHORS:\n",
    "        Pat Tamburo, March 2021\n",
    "    PURPOSE:\n",
    "        This notebook shows an example of how to make master calibrations for a run. \n",
    "        You will need info contained in PATATO: \n",
    "            https://docs.google.com/spreadsheets/d/1ACMGHrXuVh6yyzZWsR-dy3bq72bC0ElfxwUnfeA8HDM/edit#gid=0\n",
    "            Specifically, you need exposure times, bands, and dark/flat dates. \n",
    "        Assuming everything has been logged correctly, this should just work!\n",
    "\n",
    "        NOTE that if a calibration file already exists on your local computer, it will NOT create a new copy of it. \n",
    "        If you want to make a new copy, you will need to remove the existing calibration file from the appropriate \n",
    "        ~/Documents/PINES_analysis_toolkit/Calibrations/ directory. Also NOTE that any created master calibrations \n",
    "        will automatically be uploaded to the PINES server! \n",
    "    INPUTS: \n",
    "        Edit the exptimes, dark_dates, bands, and flat_dates lists in the next cell. \n",
    "    OUTPUTS: \n",
    "        Calibration images will be written to disk in your ~/Documents/PINES_analysis_toolkit/Calibrations/ directory.\n",
    "        They will also be uploaded to pines.bu.edu:/volume1/data/calibrations/ so that other users can access them.\n",
    "    TODO: \n",
    "        None.\n",
    "'''\n",
    "import pines_analysis_toolkit as pat "
   ]
  },
  {
   "cell_type": "code",
   "execution_count": 4,
   "metadata": {},
   "outputs": [],
   "source": [
    "#Set up an sftp connection to the PINES server.\n",
    "sftp = pat.utils.pines_login()\n",
    "\n",
    "#Set up calibration info. In this example, I'll make calibrations for the 202005 run, which had targets observed \n",
    "#in H band with 10- and 15-s exposure times.\n",
    "#Darks. Each exposure time must have a corresponding dark date!\n",
    "exptimes =   [        10,         15]\n",
    "dark_dates = ['20200512', '20200512']\n",
    "\n",
    "#Flats. Each band must have a corresponding flat date! NOTE that despite there being multiple exposure times, \n",
    "#all of the targets were observed in the same band (H), so we only need to make one flat. \n",
    "bands      = ['H']\n",
    "flat_dates = ['20200512']"
   ]
  },
  {
   "cell_type": "code",
   "execution_count": null,
   "metadata": {},
   "outputs": [],
   "source": [
    "#Run the calibrations. \n",
    "pat.data.make_calibrations(sftp, exptimes, bands, dark_dates, flat_dates)\n",
    "\n",
    "#Close the sftp connection. Remember to update the \"Calibrations\" column in PATATO!\n",
    "sftp.close()"
   ]
  }
 ],
 "metadata": {
  "kernelspec": {
   "display_name": "Python 3",
   "language": "python",
   "name": "python3"
  },
  "language_info": {
   "codemirror_mode": {
    "name": "ipython",
    "version": 3
   },
   "file_extension": ".py",
   "mimetype": "text/x-python",
   "name": "python",
   "nbconvert_exporter": "python",
   "pygments_lexer": "ipython3",
   "version": "3.8.5"
  }
 },
 "nbformat": 4,
 "nbformat_minor": 2
}
