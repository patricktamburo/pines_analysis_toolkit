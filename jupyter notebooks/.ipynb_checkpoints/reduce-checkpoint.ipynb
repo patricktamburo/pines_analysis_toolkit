{
 "cells": [
  {
   "cell_type": "code",
   "execution_count": 1,
   "id": "musical-cooking",
   "metadata": {},
   "outputs": [],
   "source": [
    "'''\n",
    "    AUTHORS:\n",
    "        Pat Tamburo, March 2021\n",
    "    PURPOSE:\n",
    "        This notebook shows an example of how to make reduced images for a run. \n",
    "        You will need a list of target names. \n",
    "        NOTE that if reduced data already exists on your computer, it will NOT create a new copy of it. \n",
    "        If you want to make a new copy, you will need to remove the existing reduced data from the appropriate \n",
    "        ~/Documents/PINES_analysis_toolkit/Objects/2MASS */reduced/ directory. \n",
    "        Also NOTE that the upload step can take a long time!\n",
    "    INPUTS: \n",
    "        Edit the targets list in the next cell. \n",
    "    OUTPUTS: \n",
    "        Reduced images will be written to disk in the appropriate \n",
    "            ~/Documents/PINES_analysis_toolkit/Objects/2MASS */reduced/ directory.\n",
    "        They will also be uploaded to pines.bu.edu:/volume1/data/reduced/ so that other users can access them.\n",
    "    TODO: \n",
    "        None.\n",
    "'''\n",
    "import pines_analysis_toolkit as pat "
   ]
  },
  {
   "cell_type": "code",
   "execution_count": null,
   "id": "sapphire-jamaica",
   "metadata": {},
   "outputs": [],
   "source": [
    "#Declare a list of targets for which you want to reduce data. \n",
    "targets = ['2MASS J11250502+0556424', '2MASS J11394192-0310039', '2MASS J11491231-0153003',\n",
    "           '2MASS J11555389+0559577', '2MASS J11582077+0435014']\n",
    "\n",
    "#Create a connection to the PINES server. \n",
    "sftp = pat.utils.pines_login()\n"
   ]
  },
  {
   "cell_type": "code",
   "execution_count": null,
   "id": "complicated-marriage",
   "metadata": {},
   "outputs": [],
   "source": [
    "#Loop over the targets. \n",
    "for target in targets:\n",
    "    #Download the raw data.\n",
    "    pat.data.get_raw_science_files(sftp, target)\n",
    "    #Reduce it and upload it to the server. \n",
    "    pat.data.reduce(target, delete_raw=True, delete_reduced=False, upload=True, sftp=sftp)\n",
    "\n",
    "sftp.close()"
   ]
  }
 ],
 "metadata": {
  "kernelspec": {
   "display_name": "Python 3",
   "language": "python",
   "name": "python3"
  },
  "language_info": {
   "codemirror_mode": {
    "name": "ipython",
    "version": 3
   },
   "file_extension": ".py",
   "mimetype": "text/x-python",
   "name": "python",
   "nbconvert_exporter": "python",
   "pygments_lexer": "ipython3",
   "version": "3.8.5"
  }
 },
 "nbformat": 4,
 "nbformat_minor": 5
}
