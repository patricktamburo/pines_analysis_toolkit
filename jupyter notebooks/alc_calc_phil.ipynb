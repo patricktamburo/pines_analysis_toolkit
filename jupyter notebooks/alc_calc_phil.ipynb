{
 "cells": [
  {
   "cell_type": "code",
   "execution_count": 13,
   "metadata": {},
   "outputs": [],
   "source": [
    "import numpy as np\n",
    "from astropy.io import ascii\n",
    "from astropy.table import Table\n",
    "from matplotlib import pyplot as plt"
   ]
  },
  {
   "cell_type": "code",
   "execution_count": 29,
   "metadata": {},
   "outputs": [],
   "source": [
    "data = ascii.read('/Users/tamburo/Documents/PINES_analysis_toolkit/Objects/2MASS 0136+0933/aper_phot/2MASS 0136+0933_aper_phot_5.0_pix_radius.csv', format='csv', fast_reader=False)\n",
    "data = data[0:105] #Just want the first night\n",
    "time = data['Time JD']\n",
    "targ_flux = np.array(data['2MASS 0136+0933 Flux'])"
   ]
  },
  {
   "cell_type": "code",
   "execution_count": 16,
   "metadata": {},
   "outputs": [],
   "source": [
    "ref_flux_labels = ['Reference 1 Flux','Reference 2 Flux','Reference 3 Flux','Reference 4 Flux'] #etc, etc\n",
    "#ref_err_labels  = ref_flux_labels + ' Error'\n",
    "ref_err_labels = ['Reference 1 Flux Error','Reference 2 Flux Error','Reference 3 Flux Error','Reference 4 Flux Error'] #etc, etc"
   ]
  },
  {
   "cell_type": "code",
   "execution_count": 17,
   "metadata": {},
   "outputs": [
    {
     "name": "stdout",
     "output_type": "stream",
     "text": [
      "N_times = 105\n",
      "N_ref_stars = 4\n"
     ]
    }
   ],
   "source": [
    "#make numpy arrays for all the stuff we need\n",
    "N_times = len(data['Time UT'])\n",
    "N_ref_stars = len(ref_flux_labels)\n",
    "print(\"N_times =\",N_times)\n",
    "print(\"N_ref_stars =\",N_ref_stars)\n",
    "\n",
    "raw_flux = np.zeros((N_times,N_ref_stars)) #units of photons\n",
    "raw_err = np.zeros((N_times,N_ref_stars)) #units of photons\n",
    "norm_flux = np.zeros((N_times,N_ref_stars)) #raw flux normalized by a single value to be near 1.0, unitless\n",
    "norm_err = np.zeros((N_times,N_ref_stars)) #norm flux err, unitless\n",
    "alc_flux = np.zeros((N_times,N_ref_stars)) #special ALC to remove atm veriation, unitless, near 1.0\n",
    "alc_err = np.zeros((N_times,N_ref_stars)) #err in special ALC\n",
    "corr_flux = np.zeros((N_times,N_ref_stars)) #norm flux corrected to remove atm veriation, unitless, near 1.0\n",
    "corr_err = np.zeros((N_times,N_ref_stars)) #corr flux err\n",
    "running_stddev = np.zeros((N_times,N_ref_stars)) #running std dev of corr flux"
   ]
  },
  {
   "cell_type": "code",
   "execution_count": 18,
   "metadata": {},
   "outputs": [
    {
     "name": "stdout",
     "output_type": "stream",
     "text": [
      "174515.290599577\n",
      "91393.4066834401\n",
      "65332.41507640474\n",
      "43073.23686892492\n"
     ]
    }
   ],
   "source": [
    "#fill raw flux and err flux arrays, and normalize\n",
    "for i in np.arange(N_ref_stars):\n",
    "    #convert to numpy arrays\n",
    "    raw_flux[:,i] = np.array(data[ref_flux_labels[i]])\n",
    "    raw_err[:,i] = np.array(data[ref_err_labels[i]])\n",
    "\n",
    "    #normalize to weighted mean of flux values so they are near 1.\n",
    "    normalization = np.sum(raw_flux[:,i]/raw_err[:,i]**2) / np.sum(1/raw_err[:,i]**2)\n",
    "    print(normalization)        \n",
    "    norm_flux[:,i] = raw_flux[:,i] / normalization\n",
    "    norm_err[:,i] = raw_err[:,i] / normalization   \n",
    "    "
   ]
  },
  {
   "cell_type": "code",
   "execution_count": 19,
   "metadata": {},
   "outputs": [
    {
     "name": "stdout",
     "output_type": "stream",
     "text": [
      "0.0\n",
      "0.0\n",
      "0.0\n",
      "0.0\n",
      "True\n",
      "0.011172915351885034\n",
      "0.016605081534726656\n",
      "0.022359477317022182\n",
      "0.02124488311604239\n",
      "True\n",
      "0.011796260632889006\n",
      "0.012928296835155643\n",
      "0.023138055494875222\n",
      "0.021604495634665474\n",
      "True\n",
      "0.010392629564842302\n",
      "0.012274345438358893\n",
      "0.023266180377440653\n",
      "0.021717133660094458\n",
      "True\n",
      "0.010195552371056656\n",
      "0.012185124482595329\n",
      "0.023287831874628424\n",
      "0.021732666045188295\n",
      "True\n",
      "0.010170587662021061\n",
      "0.012173515199405807\n",
      "0.023290678722756877\n",
      "0.02173467096810029\n",
      "True\n",
      "0.010167380857307786\n",
      "0.012172022191273588\n",
      "0.023291044816179055\n",
      "0.021734928644369034\n",
      "True\n",
      "0.010166969168557341\n",
      "0.012171830518896257\n",
      "0.023291091827466404\n",
      "0.021734961724158855\n",
      "True\n",
      "0.010166916327003487\n",
      "0.012171805916070281\n",
      "0.02329109786196621\n",
      "0.021734965970182308\n",
      "True\n",
      "0.01016690954451418\n",
      "0.012171802758155362\n",
      "0.023291098636529534\n",
      "0.021734966515183012\n",
      "True\n",
      "0.010166908673945702\n",
      "0.01217180235282022\n",
      "0.023291098735948906\n",
      "0.021734966585136725\n",
      "True\n",
      "0.010166908562203666\n",
      "0.012171802300793344\n",
      "0.023291098748709885\n",
      "0.021734966594115668\n",
      "True\n",
      "0.010166908547860988\n",
      "0.01217180229411539\n",
      "0.023291098750347825\n",
      "0.021734966595268138\n",
      "False\n"
     ]
    },
    {
     "name": "stderr",
     "output_type": "stream",
     "text": [
      "<ipython-input-19-bbb60bd8d7dd>:30: RuntimeWarning: divide by zero encountered in true_divide\n",
      "  fractional_changes = np.abs(new_stddev - old_stddev)/old_stddev\n"
     ]
    }
   ],
   "source": [
    "#now calculate the ALC for each ref star\n",
    "old_stddev = np.zeros(N_ref_stars)\n",
    "new_stddev = np.zeros(N_ref_stars)\n",
    "keep_going = True\n",
    "while keep_going:\n",
    "    for i in np.arange(N_ref_stars):\n",
    "        #indices w/o the i'th ref star\n",
    "        indices = np.where(np.arange(N_ref_stars) != i)\n",
    "\n",
    "        #make local arrays to store non_i norm fluxes\n",
    "        norm_flux_without_i = np.resize(norm_flux[:,indices],(N_times,N_ref_stars-1))\n",
    "        norm_err_without_i = np.resize(norm_err[:,indices],(N_times,N_ref_stars-1))\n",
    "    \n",
    "        #weighted mean of norm flux\n",
    "        alc_flux[:,i] = np.sum(norm_flux_without_i/norm_err_without_i**2,axis=1) / np.sum(1/norm_err_without_i**2,axis=1)\n",
    "        alc_err[:,i] = np.sqrt( 1 / np.sum(1/norm_err_without_i**2,axis=1))\n",
    "    \n",
    "        #calculate corr flux and corr err\n",
    "        corr_flux[:,i] = norm_flux[:,i] / alc_flux[:,i]\n",
    "        corr_err[:,i] = corr_flux[:,i] * np.sqrt((norm_err[:,i]/norm_flux[:,i])**2 + (alc_err[:,i]/alc_flux[:,i])**2)\n",
    "    \n",
    "        #calculate stddevs\n",
    "        print(new_stddev[i])\n",
    "        old_stddev[i] = new_stddev[i]\n",
    "        new_stddev[i] = np.std(corr_flux[:,i])\n",
    "    \n",
    "        #update normalized errors\n",
    "        norm_err[:,i] = new_stddev[i]\n",
    "    \n",
    "    fractional_changes = np.abs(new_stddev - old_stddev)/old_stddev\n",
    "    \n",
    "    if np.sum(fractional_changes) < 0.000000001:\n",
    "        keep_going = False\n",
    "    \n",
    "    print(keep_going)\n",
    "    "
   ]
  },
  {
   "cell_type": "code",
   "execution_count": 20,
   "metadata": {},
   "outputs": [],
   "source": [
    "#now calculate the weighted average of all of the norm fluxes\n",
    "alc_final_flux = np.sum(norm_flux/norm_err**2,axis=1) / np.sum(1/norm_err**2,axis=1)\n",
    "alc_final_err = np.sqrt( 1 / np.sum(1/norm_err**2,axis=1))\n"
   ]
  },
  {
   "cell_type": "code",
   "execution_count": 21,
   "metadata": {},
   "outputs": [
    {
     "data": {
      "text/plain": [
       "[<matplotlib.lines.Line2D at 0x7f9340626760>,\n",
       " <matplotlib.lines.Line2D at 0x7f9340626880>,\n",
       " <matplotlib.lines.Line2D at 0x7f93406268e0>,\n",
       " <matplotlib.lines.Line2D at 0x7f9340626970>]"
      ]
     },
     "execution_count": 21,
     "metadata": {},
     "output_type": "execute_result"
    },
    {
     "data": {
      "image/png": "[encoded data removed]",
      "text/plain": [
       "<Figure size 432x288 with 1 Axes>"
      ]
     },
     "metadata": {
      "needs_background": "light"
     },
     "output_type": "display_data"
    }
   ],
   "source": [
    "#make some plots\n",
    "plt.plot(time,raw_flux,'.')"
   ]
  },
  {
   "cell_type": "code",
   "execution_count": 22,
   "metadata": {},
   "outputs": [
    {
     "data": {
      "text/plain": [
       "[<matplotlib.lines.Line2D at 0x7f93a0701700>,\n",
       " <matplotlib.lines.Line2D at 0x7f93a0701760>,\n",
       " <matplotlib.lines.Line2D at 0x7f93a07017f0>,\n",
       " <matplotlib.lines.Line2D at 0x7f93a07018e0>]"
      ]
     },
     "execution_count": 22,
     "metadata": {},
     "output_type": "execute_result"
    },
    {
     "data": {
      "image/png": "[encoded data removed]",
      "text/plain": [
       "<Figure size 432x288 with 1 Axes>"
      ]
     },
     "metadata": {
      "needs_background": "light"
     },
     "output_type": "display_data"
    }
   ],
   "source": [
    "plt.plot(time,norm_flux,'.')"
   ]
  },
  {
   "cell_type": "code",
   "execution_count": 23,
   "metadata": {},
   "outputs": [
    {
     "data": {
      "text/plain": [
       "[<matplotlib.lines.Line2D at 0x7f9350371280>,\n",
       " <matplotlib.lines.Line2D at 0x7f93503712e0>,\n",
       " <matplotlib.lines.Line2D at 0x7f9350371370>,\n",
       " <matplotlib.lines.Line2D at 0x7f9350371460>]"
      ]
     },
     "execution_count": 23,
     "metadata": {},
     "output_type": "execute_result"
    },
    {
     "data": {
      "image/png": "[encoded data removed]",
      "text/plain": [
       "<Figure size 432x288 with 1 Axes>"
      ]
     },
     "metadata": {
      "needs_background": "light"
     },
     "output_type": "display_data"
    }
   ],
   "source": [
    "plt.plot(time,corr_flux,'.')\n",
    "#plt.ylim(0,2)"
   ]
  },
  {
   "cell_type": "code",
   "execution_count": 35,
   "metadata": {},
   "outputs": [
    {
     "name": "stdout",
     "output_type": "stream",
     "text": [
      "0.998923012824762\n"
     ]
    },
    {
     "data": {
      "text/plain": [
       "[<matplotlib.lines.Line2D at 0x7f9360207fd0>]"
      ]
     },
     "execution_count": 35,
     "metadata": {},
     "output_type": "execute_result"
    },
    {
     "data": {
      "image/png": "[encoded data removed]",
      "text/plain": [
       "<Figure size 432x288 with 1 Axes>"
      ]
     },
     "metadata": {
      "needs_background": "light"
     },
     "output_type": "display_data"
    }
   ],
   "source": [
    "plt.plot(time,alc_final_flux,'.', label='ALC')\n",
    "print(np.mean(alc_final_flux))\n",
    "plt.plot(time,targ_flux/np.median(targ_flux),'.', label='Target')"
   ]
  },
  {
   "cell_type": "code",
   "execution_count": 41,
   "metadata": {},
   "outputs": [
    {
     "data": {
      "text/plain": [
       "[<matplotlib.lines.Line2D at 0x7f9371ae3640>]"
      ]
     },
     "execution_count": 41,
     "metadata": {},
     "output_type": "execute_result"
    },
    {
     "data": {
      "image/png": "[encoded data removed]",
      "text/plain": [
       "<Figure size 432x288 with 1 Axes>"
      ]
     },
     "metadata": {
      "needs_background": "light"
     },
     "output_type": "display_data"
    }
   ],
   "source": [
    "targ_corr = targ_flux/alc_final_flux\n",
    "targ_corr = targ_corr/np.median(targ_corr)\n",
    "plt.plot(time, targ_corr, '.')"
   ]
  },
  {
   "cell_type": "code",
   "execution_count": null,
   "metadata": {},
   "outputs": [],
   "source": []
  },
  {
   "cell_type": "code",
   "execution_count": null,
   "metadata": {},
   "outputs": [],
   "source": []
  },
  {
   "cell_type": "code",
   "execution_count": null,
   "metadata": {},
   "outputs": [],
   "source": []
  },
  {
   "cell_type": "code",
   "execution_count": null,
   "metadata": {},
   "outputs": [],
   "source": []
  }
 ],
 "metadata": {
  "kernelspec": {
   "display_name": "Python 3",
   "language": "python",
   "name": "python3"
  },
  "language_info": {
   "codemirror_mode": {
    "name": "ipython",
    "version": 3
   },
   "file_extension": ".py",
   "mimetype": "text/x-python",
   "name": "python",
   "nbconvert_exporter": "python",
   "pygments_lexer": "ipython3",
   "version": "3.8.3"
  }
 },
 "nbformat": 4,
 "nbformat_minor": 4
}
